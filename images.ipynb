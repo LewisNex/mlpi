{
 "cells": [
  {
   "cell_type": "code",
   "execution_count": 1,
   "metadata": {},
   "outputs": [],
   "source": [
    "import pandas as pd\n",
    "import numpy as np\n",
    "\n",
    "import matplotlib.pyplot as plt\n",
    "\n",
    "import math"
   ]
  },
  {
   "cell_type": "code",
   "execution_count": 24,
   "metadata": {},
   "outputs": [],
   "source": [
    "# SIZE = 31\n",
    "SIZE = 21\n",
    "DATA_PATH = \"data/{}x{}\".format(SIZE, SIZE)\n",
    " \n",
    "wenames = [f\"seed{i}/w_et\" for i in [0,1]] \n",
    "genames = [f\"seed{i}/g_et\" for i in [0,1,2,3,4]]\n",
    "\n",
    "correction_params = {\"ptmean\": False, \"rotate\": False, \"transform_layers_together\": True}\n",
    "plot_params = {\"log_color\":False}"
   ]
  },
  {
   "cell_type": "code",
   "execution_count": 5,
   "metadata": {},
   "outputs": [],
   "source": [
    "from scipy.optimize import minimize_scalar\n",
    "import skimage.transform as ski\n",
    "\n",
    "from matplotlib.colors import LogNorm\n",
    "\n",
    "def show_images(images, log_color=False):\n",
    "    fig = plt.figure()\n",
    "    num_imgs = len(images)\n",
    "#     axes = [fig.add_subplot(101 + n + 10*num_imgs, label=label) for n, label in enumerate([\"Hadrons\", \"Leptons\", \"Total\"])]\n",
    "    axes = [fig.add_subplot(101 + n + 10*num_imgs) for n in range(num_imgs)]\n",
    "    for image, axis in zip(images, axes):\n",
    "        image = image + 0.001 # Fix logging of zeros\n",
    "        if log_color:\n",
    "            axis.imshow(image, norm=LogNorm(vmin=image.min(), vmax=image.max()))\n",
    "        else:\n",
    "            axis.imshow(image)\n",
    "    plt.show()\n",
    "\n",
    "def variance_angle(img, beta=1):\n",
    "    # Turn the his,  togram into a set of points centred on the middle pixel\n",
    "    x_max, y_max = img.shape\n",
    "    points = np.asarray([[x-x_max/2 , y-y_max/2, img[int(x), int(y)]] \n",
    "                         for x in range(x_max)\n",
    "                         for y in range(y_max)\n",
    "                         if img[int(x), int(y)] > 0])\n",
    "    mean_alpha = np.mean(np.arctan2(points[:,1] , (points[:,0])))\n",
    "    return mean_alpha\n",
    "    \n",
    "def img_centre(img, ptmean=True):\n",
    "    # Turn the histogram into a set of points centred on the middle pixel\n",
    "    x_max, y_max = img.shape\n",
    "    if ptmean:\n",
    "        tot = np.sum(img)\n",
    "        points = np.asarray([[(x-x_max/2) * img[int(x), int(y)] / tot,(y-y_max/2) * img[int(x), int(y)] / tot]\n",
    "                             for x in range(x_max)\n",
    "                             for y in range(y_max)])\n",
    "        c_x, c_y = np.sum(points, axis=0)\n",
    "        return c_x, c_y\n",
    "    else:\n",
    "        m_x, m_y = np.argwhere(img == np.max(img))[0]\n",
    "        return math.ceil(m_x - x_max/2), math.ceil(m_y - y_max/2)\n",
    "    \n",
    "    \n",
    "def correct_image(img, ptmean=True, rotate=True, transform_layers_together=True):\n",
    "    # split image into layers\n",
    "    if len(img.shape) > 2:\n",
    "        layers = [img[:,:,i] for i in range(len(img[0,0,:]))]\n",
    "    else:\n",
    "        layers = [img]\n",
    "        \n",
    "    corrected = np.zeros(img.shape)\n",
    "    \n",
    "    if transform_layers_together:\n",
    "        xc, yc = img_centre(img.sum(axis=2), ptmean)\n",
    "        for i, layer in enumerate(layers):\n",
    "            layers[i] = ski.warp(layer, ski.AffineTransform(translation=(1*yc, 1*xc)), order=0)\n",
    "        if rotate:\n",
    "            angle = (variance_angle(np.asarray(layers).sum(axis=0)) * 180/np.pi)\n",
    "            for i, layer in enumerate(layers):\n",
    "                layers[i] = ski.rotate(layer, -angle, order=0)\n",
    "        for i, layer in enumerate(layers):\n",
    "            corrected[:,:,i] = layer\n",
    "        return corrected / np.sum(corrected)\n",
    "    else:\n",
    "        for i, layer in enumerate(layers):\n",
    "            xc, yc = img_centre(layer, ptmean)\n",
    "            layer = ski.warp(layer, ski.AffineTransform(translation=(1*yc, 1*xc)), order=0)\n",
    "            if rotate:\n",
    "                angle = (variance_angle(layer) * 180/np.pi)\n",
    "                layer = ski.rotate(layer, -angle, order=0)\n",
    "            corrected[:,:,i] = layer\n",
    "        return corrected / np.sum(corrected)\n",
    "\n",
    "def correct_series(series, **kwargs): \n",
    "    rotated = pd.Series(correct_image(series.values.reshape((SIZE,SIZE,2)), **kwargs).flatten())\n",
    "    return rotated / rotated.sum()"
   ]
  },
  {
   "cell_type": "code",
   "execution_count": 6,
   "metadata": {},
   "outputs": [],
   "source": [
    "w_et = (pd.concat([pd.read_csv(f\"{DATA_PATH}/{name}.csv\", header=None, dtype=np.float64)\n",
    "                   for name in wenames])\n",
    "          .dropna(1)\n",
    "          .apply(correct_series, axis=1, **correction_params)\n",
    "        )"
   ]
  },
  {
   "cell_type": "code",
   "execution_count": 7,
   "metadata": {},
   "outputs": [
    {
     "data": {
      "image/png": "[encoded data removed]",
      "text/plain": [
       "<Figure size 432x288 with 3 Axes>"
      ]
     },
     "metadata": {
      "needs_background": "light"
     },
     "output_type": "display_data"
    }
   ],
   "source": [
    "show_images([w_et.mean().values.reshape((SIZE,SIZE,2))[:,:,0].T,\n",
    "             w_et.mean().values.reshape((SIZE,SIZE,2))[:,:,1].T,\n",
    "             w_et.mean().values.reshape((SIZE,SIZE,2)).sum(axis=2).T],\n",
    "             **plot_params)"
   ]
  },
  {
   "cell_type": "code",
   "execution_count": 8,
   "metadata": {},
   "outputs": [],
   "source": [
    "g_et = (pd.concat([pd.read_csv(f\"{DATA_PATH}/{name}.csv\", header=None, dtype=np.float64)\n",
    "                   for name in genames])\n",
    "          .dropna(1)\n",
    "          .apply(correct_series, axis=1, **correction_params)\n",
    "        )"
   ]
  },
  {
   "cell_type": "code",
   "execution_count": 9,
   "metadata": {},
   "outputs": [
    {
     "data": {
      "image/png": "[encoded data removed]",
      "text/plain": [
       "<Figure size 432x288 with 3 Axes>"
      ]
     },
     "metadata": {
      "needs_background": "light"
     },
     "output_type": "display_data"
    }
   ],
   "source": [
    "show_images([g_et.mean().values.reshape((SIZE,SIZE,2))[:,:,0].T,\n",
    "             g_et.mean().values.reshape((SIZE,SIZE,2))[:,:,1].T,\n",
    "             g_et.mean().values.reshape((SIZE,SIZE,2)).sum(axis=2).T],\n",
    "            **plot_params)"
   ]
  },
  {
   "cell_type": "code",
   "execution_count": 10,
   "metadata": {},
   "outputs": [
    {
     "name": "stdout",
     "output_type": "stream",
     "text": [
      "Gluon: 76152; W: 43972;\n"
     ]
    }
   ],
   "source": [
    "limit = min([g_et.shape[0], w_et.shape[0]])\n",
    "print(\"Gluon: {}; W: {};\".format(g_et.shape[0], w_et.shape[0]))"
   ]
  },
  {
   "cell_type": "code",
   "execution_count": 17,
   "metadata": {},
   "outputs": [],
   "source": [
    "from sklearn.model_selection import train_test_split\n",
    "\n",
    "mean = pd.concat([g_et, w_et]).mean()\n",
    "background = (g_et - mean).values\n",
    "signal = (w_et - mean).values\n",
    "\n",
    "X = np.r_[background, signal]\n",
    "y = np.r_[np.zeros(len(background)),\n",
    "          np.ones(len(signal))]\n",
    "X_train, X_test, y_train, y_test = train_test_split(X, y, test_size=0.1, \n",
    "                                                    shuffle=True, random_state=0)\n"
   ]
  },
  {
   "cell_type": "code",
   "execution_count": 18,
   "metadata": {},
   "outputs": [
    {
     "name": "stdout",
     "output_type": "stream",
     "text": [
      "INFO:tensorflow:Using default config.\n",
      "WARNING:tensorflow:Using temporary folder as model directory: C:\\Users\\Lewis\\AppData\\Local\\Temp\\tmp91n4xwif\n",
      "INFO:tensorflow:Using config: {'_model_dir': 'C:\\\\Users\\\\Lewis\\\\AppData\\\\Local\\\\Temp\\\\tmp91n4xwif', '_tf_random_seed': None, '_save_summary_steps': 100, '_save_checkpoints_steps': None, '_save_checkpoints_secs': 600, '_session_config': allow_soft_placement: true\n",
      "graph_options {\n",
      "  rewrite_options {\n",
      "    meta_optimizer_iterations: ONE\n",
      "  }\n",
      "}\n",
      ", '_keep_checkpoint_max': 5, '_keep_checkpoint_every_n_hours': 10000, '_log_step_count_steps': 100, '_train_distribute': None, '_device_fn': None, '_protocol': None, '_eval_distribute': None, '_experimental_distribute': None, '_service': None, '_cluster_spec': <tensorflow.python.training.server_lib.ClusterSpec object at 0x0000019EA842A6A0>, '_task_type': 'worker', '_task_id': 0, '_global_id_in_cluster': 0, '_master': '', '_evaluation_master': '', '_is_chief': True, '_num_ps_replicas': 0, '_num_worker_replicas': 1}\n",
      "INFO:tensorflow:Calling model_fn.\n",
      "INFO:tensorflow:Done calling model_fn.\n",
      "INFO:tensorflow:Create CheckpointSaverHook.\n",
      "INFO:tensorflow:Graph was finalized.\n",
      "INFO:tensorflow:Running local_init_op.\n",
      "INFO:tensorflow:Done running local_init_op.\n",
      "INFO:tensorflow:Saving checkpoints for 0 into C:\\Users\\Lewis\\AppData\\Local\\Temp\\tmp91n4xwif\\model.ckpt.\n",
      "INFO:tensorflow:loss = 69.2628, step = 0\n",
      "INFO:tensorflow:global_step/sec: 147.495\n",
      "INFO:tensorflow:loss = 64.124725, step = 100 (0.679 sec)\n",
      "INFO:tensorflow:global_step/sec: 187.972\n",
      "INFO:tensorflow:loss = 67.55633, step = 200 (0.533 sec)\n",
      "INFO:tensorflow:global_step/sec: 188.682\n",
      "INFO:tensorflow:loss = 63.81848, step = 300 (0.530 sec)\n",
      "INFO:tensorflow:global_step/sec: 186.57\n",
      "INFO:tensorflow:loss = 67.12912, step = 400 (0.536 sec)\n",
      "INFO:tensorflow:global_step/sec: 188.326\n",
      "INFO:tensorflow:loss = 66.896065, step = 500 (0.533 sec)\n",
      "INFO:tensorflow:global_step/sec: 187.619\n",
      "INFO:tensorflow:loss = 60.935658, step = 600 (0.532 sec)\n",
      "INFO:tensorflow:global_step/sec: 184.845\n",
      "INFO:tensorflow:loss = 66.35389, step = 700 (0.539 sec)\n",
      "INFO:tensorflow:global_step/sec: 188.327\n",
      "INFO:tensorflow:loss = 68.381355, step = 800 (0.532 sec)\n",
      "INFO:tensorflow:global_step/sec: 188.682\n",
      "INFO:tensorflow:loss = 67.09464, step = 900 (0.531 sec)\n",
      "INFO:tensorflow:global_step/sec: 188.326\n",
      "INFO:tensorflow:loss = 68.63501, step = 1000 (0.531 sec)\n",
      "INFO:tensorflow:Saving checkpoints for 1082 into C:\\Users\\Lewis\\AppData\\Local\\Temp\\tmp91n4xwif\\model.ckpt.\n",
      "INFO:tensorflow:Loss for final step: 6.058983.\n"
     ]
    },
    {
     "data": {
      "text/plain": [
       "<tensorflow.python.estimator.canned.dnn.DNNClassifier at 0x19ea842af60>"
      ]
     },
     "execution_count": 18,
     "metadata": {},
     "output_type": "execute_result"
    }
   ],
   "source": [
    "import tensorflow as tf\n",
    "import os\n",
    "\n",
    "features = [tf.feature_column.numeric_column(\"x\", shape=[SIZE,SIZE,2])]\n",
    "dnn_clf = tf.estimator.DNNClassifier(hidden_units=[128, 256, 128], \n",
    "                                     n_classes=2,\n",
    "                                     feature_columns=features)\n",
    "\n",
    "train_input_fn = tf.estimator.inputs.numpy_input_fn(\n",
    "        x={\"x\": X_train.reshape((-1,SIZE,SIZE,2))},\n",
    "        y=y_train,\n",
    "        shuffle=False,\n",
    "        batch_size=100\n",
    ")\n",
    "\n",
    "dnn_clf.train(input_fn=train_input_fn, steps=10000)"
   ]
  },
  {
   "cell_type": "code",
   "execution_count": 21,
   "metadata": {},
   "outputs": [
    {
     "name": "stdout",
     "output_type": "stream",
     "text": [
      "INFO:tensorflow:Calling model_fn.\n",
      "INFO:tensorflow:Done calling model_fn.\n",
      "INFO:tensorflow:Graph was finalized.\n",
      "INFO:tensorflow:Restoring parameters from C:\\Users\\Lewis\\AppData\\Local\\Temp\\tmp91n4xwif\\model.ckpt-1082\n",
      "INFO:tensorflow:Running local_init_op.\n",
      "INFO:tensorflow:Done running local_init_op.\n",
      "Precision: 0.50\n",
      "Recall: 0.27\n",
      "f1: 0.35\n",
      "[[0.53225672 0.0997253 ]\n",
      " [0.2681262  0.09989178]]\n"
     ]
    }
   ],
   "source": [
    "from sklearn.metrics import confusion_matrix, precision_score, recall_score, f1_score\n",
    "\n",
    "test_input_fn = tf.estimator.inputs.numpy_input_fn(\n",
    "    x={\"x\": X_test.reshape((-1,SIZE,SIZE,2))},\n",
    "    y=y_test,\n",
    "    shuffle=False\n",
    ")\n",
    "\n",
    "y_test_pred = np.asarray([y[\"class_ids\"] for y in dnn_clf.predict(test_input_fn)])\n",
    "print(\"Precision: %0.2f\" % precision_score(y_test, y_test_pred))\n",
    "print(\"Recall: %0.2f\" % recall_score(y_test, y_test_pred))\n",
    "print(\"f1: %0.2f\" % f1_score(y_test, y_test_pred))\n",
    "print(confusion_matrix(y_test, y_test_pred, labels=[0, 1]) / len(y_test))"
   ]
  },
  {
   "cell_type": "code",
   "execution_count": 22,
   "metadata": {},
   "outputs": [
    {
     "name": "stdout",
     "output_type": "stream",
     "text": [
      "INFO:tensorflow:Calling model_fn.\n",
      "INFO:tensorflow:Done calling model_fn.\n",
      "INFO:tensorflow:Graph was finalized.\n",
      "INFO:tensorflow:Restoring parameters from C:\\Users\\Lewis\\AppData\\Local\\Temp\\tmp91n4xwif\\model.ckpt-1082\n",
      "INFO:tensorflow:Running local_init_op.\n",
      "INFO:tensorflow:Done running local_init_op.\n",
      "Precision: 0.51\n",
      "Recall: 0.28\n",
      "f1: 0.36\n",
      "[[0.53513519 0.09902785]\n",
      " [0.26379369 0.10204327]]\n"
     ]
    }
   ],
   "source": [
    "y_train_pred = np.asarray([y[\"class_ids\"] for y in dnn_clf.predict(train_input_fn)])\n",
    "print(\"Precision: %0.2f\" % precision_score(y_train, y_train_pred))\n",
    "print(\"Recall: %0.2f\" % recall_score(y_train, y_train_pred))\n",
    "print(\"f1: %0.2f\" % f1_score(y_train, y_train_pred))\n",
    "print(confusion_matrix(y_train, y_train_pred, labels=[0, 1]) / len(y_train))"
   ]
  },
  {
   "cell_type": "code",
   "execution_count": 25,
   "metadata": {},
   "outputs": [
    {
     "data": {
      "image/png": "[encoded data removed]",
      "text/plain": [
       "<Figure size 432x288 with 3 Axes>"
      ]
     },
     "metadata": {
      "needs_background": "light"
     },
     "output_type": "display_data"
    }
   ],
   "source": [
    "back_img = np.mean(background.reshape((-1,SIZE,SIZE,2)).sum(axis=3), axis=0).T\n",
    "sig_img = np.mean(signal.reshape((-1,SIZE,SIZE,2)).sum(axis=3), axis=0).T\n",
    "show_images([back_img,\n",
    "             sig_img,\n",
    "             np.abs(sig_img - back_img)],\n",
    "           **plot_params)"
   ]
  },
  {
   "cell_type": "code",
   "execution_count": 19,
   "metadata": {},
   "outputs": [
    {
     "name": "stdout",
     "output_type": "stream",
     "text": [
      "INFO:tensorflow:Calling model_fn.\n",
      "INFO:tensorflow:Done calling model_fn.\n",
      "INFO:tensorflow:Graph was finalized.\n",
      "INFO:tensorflow:Restoring parameters from C:\\Users\\Lewis\\AppData\\Local\\Temp\\tmp91n4xwif\\model.ckpt-1082\n",
      "INFO:tensorflow:Running local_init_op.\n",
      "INFO:tensorflow:Done running local_init_op.\n"
     ]
    }
   ],
   "source": [
    "from tensorflow.metrics import true_positives_at_thresholds, false_positives_at_thresholds\n",
    "from sklearn.metrics import roc_curve\n",
    "\n",
    "input_fn = tf.estimator.inputs.numpy_input_fn(\n",
    "        x={\"x\": X.reshape((-1,SIZE,SIZE,2))},\n",
    "        y=y,\n",
    "        shuffle=False\n",
    ")\n",
    "\n",
    "\n",
    "# Calculate rates for the signals\n",
    "classes = [0, 1]\n",
    "scores = np.asarray([y[\"probabilities\"] for y in dnn_clf.predict(input_fn)])\n",
    "\n",
    "fpr = {}\n",
    "tpr = {}\n",
    "for i in classes:\n",
    "    fpr[i], tpr[i], _ = roc_curve(y, scores[:, i])"
   ]
  },
  {
   "cell_type": "code",
   "execution_count": 20,
   "metadata": {},
   "outputs": [
    {
     "data": {
      "image/png": "[encoded data removed]",
      "text/plain": [
       "<Figure size 432x288 with 1 Axes>"
      ]
     },
     "metadata": {
      "needs_background": "light"
     },
     "output_type": "display_data"
    }
   ],
   "source": [
    "plt.figure()\n",
    "plt.plot(fpr[1], tpr[1], color='darkorange', lw=2)\n",
    "# plt.plot(fpr[0], tpr[0], color='green', lw=2)\n",
    "plt.plot([0, 1], [0, 1], color='navy', lw=2, linestyle='--')\n",
    "plt.xlim([0.0, 1.0])\n",
    "plt.ylim([0.0, 1.05])\n",
    "plt.xlabel('False Positive Rate')\n",
    "plt.ylabel('True Positive Rate')\n",
    "plt.show()"
   ]
  },
  {
   "cell_type": "code",
   "execution_count": null,
   "metadata": {},
   "outputs": [],
   "source": []
  }
 ],
 "metadata": {
  "kernelspec": {
   "display_name": "Python 3",
   "language": "python",
   "name": "python3"
  },
  "language_info": {
   "codemirror_mode": {
    "name": "ipython",
    "version": 3
   },
   "file_extension": ".py",
   "mimetype": "text/x-python",
   "name": "python",
   "nbconvert_exporter": "python",
   "pygments_lexer": "ipython3",
   "version": "3.6.7"
  }
 },
 "nbformat": 4,
 "nbformat_minor": 2
}
