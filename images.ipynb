{
 "cells": [
  {
   "cell_type": "code",
   "execution_count": 1,
   "metadata": {},
   "outputs": [],
   "source": [
    "import pandas as pd\n",
    "import numpy as np\n",
    "\n",
    "import matplotlib.pyplot as plt\n",
    "\n",
    "import math"
   ]
  },
  {
   "cell_type": "code",
   "execution_count": 2,
   "metadata": {},
   "outputs": [],
   "source": [
    "# SIZE = 31\n",
    "SIZE = 21\n",
    "DATA_PATH = \"data/{}x{}\".format(SIZE, SIZE)\n",
    "\n",
    "# wenames = [\"old/set2/W_et{}\".format(i) for i in range(1,3)]\n",
    "wenames = [\"seed0/W_et\"] \n",
    "# genames = [\"g_et{}\".format(i) for i in range(1,8)]\n",
    "# genames = [\"seed0/g_et\"]\n",
    "genames = [\"seed1/g_et\"] + [f\"old/set1/g_et{i}\" for i in range(1,5)] + [f\"old/set2/g_et{i}\" for i in range(2,9)] + [f\"old/set3/g_et{i}\" for i in range(1,5)] + [\"seed0/g_et\"]\n",
    "\n",
    "wqnames = [\"old/set2/W_q{}\".format(i) for i in range(1,9)]\n",
    "# gqnames = [\"g_q{}\".format(i) for i in range(1,8)]\n",
    "gqnames = [\"seed1/g_q\"]\n",
    "\n",
    "\n",
    "correction_params = {\"ptmean\": False, \"rotate\": False, \"transform_layers_together\": True}\n",
    "plot_params = {\"log_color\":True}"
   ]
  },
  {
   "cell_type": "code",
   "execution_count": 3,
   "metadata": {},
   "outputs": [],
   "source": [
    "from scipy.optimize import minimize_scalar\n",
    "import skimage.transform as ski\n",
    "\n",
    "from matplotlib.colors import LogNorm\n",
    "\n",
    "def show_images(images, log_color=False):\n",
    "    fig = plt.figure()\n",
    "    num_imgs = len(images)\n",
    "#     axes = [fig.add_subplot(101 + n + 10*num_imgs, label=label) for n, label in enumerate([\"Hadrons\", \"Leptons\", \"Total\"])]\n",
    "    axes = [fig.add_subplot(101 + n + 10*num_imgs) for n in range(num_imgs)]\n",
    "    for image, axis in zip(images, axes):\n",
    "        image = image + 0.001 # Fix logging of zeros\n",
    "        if log_color:\n",
    "            axis.imshow(image, norm=LogNorm(vmin=image.min(), vmax=image.max()))\n",
    "        else:\n",
    "            axis.imshow(image)\n",
    "    plt.show()\n",
    "\n",
    "def variance_angle(img, beta=1):\n",
    "    # Turn the his,  togram into a set of points centred on the middle pixel\n",
    "    x_max, y_max = img.shape\n",
    "    points = np.asarray([[x-x_max/2 , y-y_max/2, img[int(x), int(y)]] \n",
    "                         for x in range(x_max)\n",
    "                         for y in range(y_max)\n",
    "                         if img[int(x), int(y)] > 0])\n",
    "    mean_alpha = np.mean(np.arctan2(points[:,1] , (points[:,0])))\n",
    "    return mean_alpha\n",
    "    \n",
    "def img_centre(img, ptmean=True):\n",
    "    # Turn the histogram into a set of points centred on the middle pixel\n",
    "    x_max, y_max = img.shape\n",
    "    if ptmean:\n",
    "        tot = np.sum(img)\n",
    "        points = np.asarray([[(x-x_max/2) * img[int(x), int(y)] / tot,(y-y_max/2) * img[int(x), int(y)] / tot]\n",
    "                             for x in range(x_max)\n",
    "                             for y in range(y_max)])\n",
    "        c_x, c_y = np.sum(points, axis=0)\n",
    "        return c_x, c_y\n",
    "    else:\n",
    "        m_x, m_y = np.argwhere(img == np.max(img))[0]\n",
    "        return math.ceil(m_x - x_max/2), math.ceil(m_y - y_max/2)\n",
    "    \n",
    "    \n",
    "def correct_image(img, ptmean=True, rotate=True, transform_layers_together=True):\n",
    "    # split image into layers\n",
    "    if len(img.shape) > 2:\n",
    "        layers = [img[:,:,i] for i in range(len(img[0,0,:]))]\n",
    "    else:\n",
    "        layers = [img]\n",
    "        \n",
    "    corrected = np.zeros(img.shape)\n",
    "    \n",
    "    if transform_layers_together:\n",
    "        xc, yc = img_centre(img.sum(axis=2), ptmean)\n",
    "        for i, layer in enumerate(layers):\n",
    "            layers[i] = ski.warp(layer, ski.AffineTransform(translation=(1*yc, 1*xc)), order=0)\n",
    "        if rotate:\n",
    "            angle = (variance_angle(np.asarray(layers).sum(axis=0)) * 180/np.pi)\n",
    "            for i, layer in enumerate(layers):\n",
    "                layers[i] = ski.rotate(layer, -angle, order=0)\n",
    "        for i, layer in enumerate(layers):\n",
    "            corrected[:,:,i] = layer\n",
    "        return corrected / np.sum(corrected)\n",
    "    else:\n",
    "        for i, layer in enumerate(layers):\n",
    "            xc, yc = img_centre(layer, ptmean)\n",
    "            layer = ski.warp(layer, ski.AffineTransform(translation=(1*yc, 1*xc)), order=0)\n",
    "            if rotate:\n",
    "                angle = (variance_angle(layer) * 180/np.pi)\n",
    "                layer = ski.rotate(layer, -angle, order=0)\n",
    "            corrected[:,:,i] = layer\n",
    "        return corrected / np.sum(corrected)\n",
    "\n",
    "def correct_series(series, **kwargs): \n",
    "    rotated = pd.Series(correct_image(series.values.reshape((SIZE,SIZE,2)), **kwargs).flatten())\n",
    "    return rotated / rotated.sum()"
   ]
  },
  {
   "cell_type": "code",
   "execution_count": 4,
   "metadata": {},
   "outputs": [],
   "source": [
    "w_et = (pd.concat([pd.read_csv(f\"{DATA_PATH}/{name}.csv\", header=None, dtype=np.float64)\n",
    "                   for name in wenames])\n",
    "          .dropna(1)\n",
    "          .apply(correct_series, axis=1, **correction_params)\n",
    "        )"
   ]
  },
  {
   "cell_type": "code",
   "execution_count": 5,
   "metadata": {},
   "outputs": [
    {
     "data": {
      "image/png": "[encoded data removed]",
      "text/plain": [
       "<Figure size 432x288 with 3 Axes>"
      ]
     },
     "metadata": {
      "needs_background": "light"
     },
     "output_type": "display_data"
    }
   ],
   "source": [
    "show_images([w_et.mean().values.reshape((SIZE,SIZE,2))[:,:,0].T,\n",
    "             w_et.mean().values.reshape((SIZE,SIZE,2))[:,:,1].T,\n",
    "             w_et.mean().values.reshape((SIZE,SIZE,2)).sum(axis=2).T],\n",
    "             **plot_params)"
   ]
  },
  {
   "cell_type": "code",
   "execution_count": 6,
   "metadata": {},
   "outputs": [],
   "source": [
    "g_et = (pd.concat([pd.read_csv(f\"{DATA_PATH}/{name}.csv\", header=None, dtype=np.float64)\n",
    "                   for name in genames])\n",
    "          .dropna(1)\n",
    "          .apply(correct_series, axis=1, **correction_params)\n",
    "        )"
   ]
  },
  {
   "cell_type": "code",
   "execution_count": 7,
   "metadata": {},
   "outputs": [
    {
     "data": {
      "image/png": "[encoded data removed]",
      "text/plain": [
       "<Figure size 432x288 with 3 Axes>"
      ]
     },
     "metadata": {
      "needs_background": "light"
     },
     "output_type": "display_data"
    }
   ],
   "source": [
    "show_images([g_et.mean().values.reshape((SIZE,SIZE,2))[:,:,0].T,\n",
    "             g_et.mean().values.reshape((SIZE,SIZE,2))[:,:,1].T,\n",
    "             g_et.mean().values.reshape((SIZE,SIZE,2)).sum(axis=2).T],\n",
    "            **plot_params)"
   ]
  },
  {
   "cell_type": "code",
   "execution_count": 8,
   "metadata": {},
   "outputs": [
    {
     "name": "stdout",
     "output_type": "stream",
     "text": [
      "Gluon: 73795; W: 73357;\n"
     ]
    }
   ],
   "source": [
    "limit = min([g_et.shape[0], w_et.shape[0]])\n",
    "print(\"Gluon: {}; W: {};\".format(g_et.shape[0], w_et.shape[0]))"
   ]
  },
  {
   "cell_type": "code",
   "execution_count": 9,
   "metadata": {},
   "outputs": [],
   "source": [
    "from sklearn.model_selection import train_test_split\n",
    "\n",
    "background = g_et.values\n",
    "signal = w_et.values\n",
    "\n",
    "X = np.r_[background, signal]\n",
    "y = np.r_[np.zeros(len(background)),\n",
    "          np.ones(len(signal))]\n",
    "X_train, X_test, y_train, y_test = train_test_split(X, y, test_size=0.1, \n",
    "                                                    shuffle=True, random_state=0)\n"
   ]
  },
  {
   "cell_type": "code",
   "execution_count": 10,
   "metadata": {},
   "outputs": [
    {
     "name": "stdout",
     "output_type": "stream",
     "text": [
      "INFO:tensorflow:Using default config.\n",
      "WARNING:tensorflow:Using temporary folder as model directory: C:\\Users\\Lewis\\AppData\\Local\\Temp\\tmpuc1vt0as\n",
      "INFO:tensorflow:Using config: {'_model_dir': 'C:\\\\Users\\\\Lewis\\\\AppData\\\\Local\\\\Temp\\\\tmpuc1vt0as', '_tf_random_seed': None, '_save_summary_steps': 100, '_save_checkpoints_steps': None, '_save_checkpoints_secs': 600, '_session_config': allow_soft_placement: true\n",
      "graph_options {\n",
      "  rewrite_options {\n",
      "    meta_optimizer_iterations: ONE\n",
      "  }\n",
      "}\n",
      ", '_keep_checkpoint_max': 5, '_keep_checkpoint_every_n_hours': 10000, '_log_step_count_steps': 100, '_train_distribute': None, '_device_fn': None, '_protocol': None, '_eval_distribute': None, '_experimental_distribute': None, '_service': None, '_cluster_spec': <tensorflow.python.training.server_lib.ClusterSpec object at 0x000002162925ECC0>, '_task_type': 'worker', '_task_id': 0, '_global_id_in_cluster': 0, '_master': '', '_evaluation_master': '', '_is_chief': True, '_num_ps_replicas': 0, '_num_worker_replicas': 1}\n",
      "WARNING:tensorflow:From C:\\Users\\Lewis\\Anaconda2\\envs\\DataScience3.6\\lib\\site-packages\\tensorflow\\python\\estimator\\inputs\\queues\\feeding_queue_runner.py:62: QueueRunner.__init__ (from tensorflow.python.training.queue_runner_impl) is deprecated and will be removed in a future version.\n",
      "Instructions for updating:\n",
      "To construct input pipelines, use the `tf.data` module.\n",
      "WARNING:tensorflow:From C:\\Users\\Lewis\\Anaconda2\\envs\\DataScience3.6\\lib\\site-packages\\tensorflow\\python\\estimator\\inputs\\queues\\feeding_functions.py:500: add_queue_runner (from tensorflow.python.training.queue_runner_impl) is deprecated and will be removed in a future version.\n",
      "Instructions for updating:\n",
      "To construct input pipelines, use the `tf.data` module.\n",
      "INFO:tensorflow:Calling model_fn.\n",
      "INFO:tensorflow:Done calling model_fn.\n",
      "INFO:tensorflow:Create CheckpointSaverHook.\n",
      "INFO:tensorflow:Graph was finalized.\n",
      "INFO:tensorflow:Running local_init_op.\n",
      "INFO:tensorflow:Done running local_init_op.\n",
      "WARNING:tensorflow:From C:\\Users\\Lewis\\Anaconda2\\envs\\DataScience3.6\\lib\\site-packages\\tensorflow\\python\\training\\monitored_session.py:804: start_queue_runners (from tensorflow.python.training.queue_runner_impl) is deprecated and will be removed in a future version.\n",
      "Instructions for updating:\n",
      "To construct input pipelines, use the `tf.data` module.\n",
      "INFO:tensorflow:Saving checkpoints for 0 into C:\\Users\\Lewis\\AppData\\Local\\Temp\\tmpuc1vt0as\\model.ckpt.\n",
      "INFO:tensorflow:loss = 69.543236, step = 0\n",
      "INFO:tensorflow:global_step/sec: 137.176\n",
      "INFO:tensorflow:loss = 69.29443, step = 100 (0.731 sec)\n",
      "INFO:tensorflow:global_step/sec: 166.115\n",
      "INFO:tensorflow:loss = 69.02627, step = 200 (0.603 sec)\n",
      "INFO:tensorflow:global_step/sec: 158.23\n",
      "INFO:tensorflow:loss = 68.45307, step = 300 (0.633 sec)\n",
      "INFO:tensorflow:global_step/sec: 153.376\n",
      "INFO:tensorflow:loss = 66.53091, step = 400 (0.652 sec)\n",
      "INFO:tensorflow:global_step/sec: 160.774\n",
      "INFO:tensorflow:loss = 67.319275, step = 500 (0.622 sec)\n",
      "INFO:tensorflow:global_step/sec: 162.34\n",
      "INFO:tensorflow:loss = 72.25993, step = 600 (0.615 sec)\n",
      "INFO:tensorflow:global_step/sec: 173.013\n",
      "INFO:tensorflow:loss = 66.996056, step = 700 (0.580 sec)\n",
      "INFO:tensorflow:global_step/sec: 158.984\n",
      "INFO:tensorflow:loss = 69.69157, step = 800 (0.628 sec)\n",
      "INFO:tensorflow:global_step/sec: 153.141\n",
      "INFO:tensorflow:loss = 66.19546, step = 900 (0.653 sec)\n",
      "INFO:tensorflow:global_step/sec: 165.019\n",
      "INFO:tensorflow:loss = 71.70294, step = 1000 (0.606 sec)\n",
      "INFO:tensorflow:global_step/sec: 168.921\n",
      "INFO:tensorflow:loss = 70.714935, step = 1100 (0.592 sec)\n",
      "INFO:tensorflow:global_step/sec: 176.369\n",
      "INFO:tensorflow:loss = 67.55941, step = 1200 (0.567 sec)\n",
      "INFO:tensorflow:global_step/sec: 163.399\n",
      "INFO:tensorflow:loss = 71.67163, step = 1300 (0.611 sec)\n",
      "INFO:tensorflow:Saving checkpoints for 1325 into C:\\Users\\Lewis\\AppData\\Local\\Temp\\tmpuc1vt0as\\model.ckpt.\n",
      "INFO:tensorflow:Loss for final step: 24.718063.\n"
     ]
    },
    {
     "data": {
      "text/plain": [
       "<tensorflow.python.estimator.canned.dnn.DNNClassifier at 0x2162845f9e8>"
      ]
     },
     "execution_count": 10,
     "metadata": {},
     "output_type": "execute_result"
    }
   ],
   "source": [
    "import tensorflow as tf\n",
    "import os\n",
    "\n",
    "features = [tf.feature_column.numeric_column(\"x\", shape=[SIZE,SIZE,2])]\n",
    "dnn_clf = tf.estimator.DNNClassifier(hidden_units=[128, 256, 128], \n",
    "                                     n_classes=2,\n",
    "                                     feature_columns=features)\n",
    "\n",
    "train_input_fn = tf.estimator.inputs.numpy_input_fn(\n",
    "        x={\"x\": X_train.reshape((-1,SIZE,SIZE,2))},\n",
    "        y=y_train,\n",
    "        shuffle=False,\n",
    "        batch_size=100\n",
    ")\n",
    "\n",
    "dnn_clf.train(input_fn=train_input_fn, steps=10000)"
   ]
  },
  {
   "cell_type": "code",
   "execution_count": 11,
   "metadata": {},
   "outputs": [
    {
     "name": "stdout",
     "output_type": "stream",
     "text": [
      "INFO:tensorflow:Calling model_fn.\n",
      "INFO:tensorflow:Done calling model_fn.\n",
      "INFO:tensorflow:Graph was finalized.\n",
      "INFO:tensorflow:Restoring parameters from C:\\Users\\Lewis\\AppData\\Local\\Temp\\tmpuc1vt0as\\model.ckpt-1325\n",
      "INFO:tensorflow:Running local_init_op.\n",
      "INFO:tensorflow:Done running local_init_op.\n",
      "Precision: 0.57\n",
      "Recall: 0.58\n",
      "f1: 0.57\n",
      "[[0.28098668 0.22125578]\n",
      " [0.209296   0.28846154]]\n"
     ]
    }
   ],
   "source": [
    "from sklearn.metrics import confusion_matrix, precision_score, recall_score, f1_score\n",
    "\n",
    "test_input_fn = tf.estimator.inputs.numpy_input_fn(\n",
    "    x={\"x\": X_test.reshape((-1,SIZE,SIZE,2))},\n",
    "    y=y_test,\n",
    "    shuffle=False\n",
    ")\n",
    "\n",
    "y_test_pred = np.asarray([y[\"class_ids\"] for y in dnn_clf.predict(test_input_fn)])\n",
    "print(\"Precision: %0.2f\" % precision_score(y_test, y_test_pred))\n",
    "print(\"Recall: %0.2f\" % recall_score(y_test, y_test_pred))\n",
    "print(\"f1: %0.2f\" % f1_score(y_test, y_test_pred))\n",
    "print(confusion_matrix(y_test, y_test_pred, labels=[0, 1]) / len(y_test))"
   ]
  },
  {
   "cell_type": "code",
   "execution_count": 12,
   "metadata": {},
   "outputs": [
    {
     "name": "stdout",
     "output_type": "stream",
     "text": [
      "INFO:tensorflow:Calling model_fn.\n",
      "INFO:tensorflow:Done calling model_fn.\n",
      "INFO:tensorflow:Graph was finalized.\n",
      "INFO:tensorflow:Restoring parameters from C:\\Users\\Lewis\\AppData\\Local\\Temp\\tmpuc1vt0as\\model.ckpt-1325\n",
      "INFO:tensorflow:Running local_init_op.\n",
      "INFO:tensorflow:Done running local_init_op.\n",
      "Precision: 0.58\n",
      "Recall: 0.59\n",
      "f1: 0.58\n",
      "[[0.28660636 0.21479809]\n",
      " [0.20650729 0.29208825]]\n"
     ]
    }
   ],
   "source": [
    "y_train_pred = np.asarray([y[\"class_ids\"] for y in dnn_clf.predict(train_input_fn)])\n",
    "print(\"Precision: %0.2f\" % precision_score(y_train, y_train_pred))\n",
    "print(\"Recall: %0.2f\" % recall_score(y_train, y_train_pred))\n",
    "print(\"f1: %0.2f\" % f1_score(y_train, y_train_pred))\n",
    "print(confusion_matrix(y_train, y_train_pred, labels=[0, 1]) / len(y_train))"
   ]
  },
  {
   "cell_type": "code",
   "execution_count": 13,
   "metadata": {},
   "outputs": [
    {
     "data": {
      "image/png": "[encoded data removed]",
      "text/plain": [
       "<Figure size 432x288 with 3 Axes>"
      ]
     },
     "metadata": {
      "needs_background": "light"
     },
     "output_type": "display_data"
    }
   ],
   "source": [
    "back_img = np.mean(background.reshape((-1,SIZE,SIZE,2)).sum(axis=3), axis=0).T\n",
    "sig_img = np.mean(signal.reshape((-1,SIZE,SIZE,2)).sum(axis=3), axis=0).T\n",
    "show_images([back_img,\n",
    "             sig_img,\n",
    "             np.abs(sig_img - back_img)],\n",
    "           **plot_params)"
   ]
  },
  {
   "cell_type": "code",
   "execution_count": 14,
   "metadata": {},
   "outputs": [
    {
     "data": {
      "image/png": "[encoded data removed]",
      "text/plain": [
       "<Figure size 432x288 with 2 Axes>"
      ]
     },
     "metadata": {
      "needs_background": "light"
     },
     "output_type": "display_data"
    }
   ],
   "source": [
    "show_images([w_et.iloc[0].values.reshape((SIZE,SIZE,2)).sum(axis=2).T,\n",
    "             g_et.iloc[0].values.reshape((SIZE,SIZE,2)).sum(axis=2).T],\n",
    "            **plot_params)"
   ]
  },
  {
   "cell_type": "code",
   "execution_count": 15,
   "metadata": {},
   "outputs": [
    {
     "name": "stdout",
     "output_type": "stream",
     "text": [
      "INFO:tensorflow:Calling model_fn.\n",
      "INFO:tensorflow:Done calling model_fn.\n",
      "INFO:tensorflow:Graph was finalized.\n",
      "INFO:tensorflow:Restoring parameters from C:\\Users\\Lewis\\AppData\\Local\\Temp\\tmpuc1vt0as\\model.ckpt-1325\n",
      "INFO:tensorflow:Running local_init_op.\n",
      "INFO:tensorflow:Done running local_init_op.\n"
     ]
    }
   ],
   "source": [
    "from tensorflow.metrics import true_positives_at_thresholds, false_positives_at_thresholds\n",
    "from sklearn.metrics import roc_curve\n",
    "\n",
    "input_fn = tf.estimator.inputs.numpy_input_fn(\n",
    "        x={\"x\": X.reshape((-1,SIZE,SIZE,2))},\n",
    "        y=y,\n",
    "        shuffle=False\n",
    ")\n",
    "\n",
    "\n",
    "# Calculate rates for the signals\n",
    "classes = [0, 1]\n",
    "scores = np.asarray([y[\"probabilities\"] for y in dnn_clf.predict(input_fn)])\n",
    "\n",
    "fpr = {}\n",
    "tpr = {}\n",
    "for i in classes:\n",
    "    fpr[i], tpr[i], _ = roc_curve(y, scores[:, i])"
   ]
  },
  {
   "cell_type": "code",
   "execution_count": 18,
   "metadata": {},
   "outputs": [
    {
     "data": {
      "image/png": "[encoded data removed]",
      "text/plain": [
       "<Figure size 432x288 with 1 Axes>"
      ]
     },
     "metadata": {
      "needs_background": "light"
     },
     "output_type": "display_data"
    }
   ],
   "source": [
    "plt.figure()\n",
    "plt.plot(fpr[1], tpr[1], color='darkorange', lw=2)\n",
    "plt.plot(fpr[0], tpr[0], color='green', lw=2)\n",
    "plt.plot([0, 1], [0, 1], color='navy', lw=2, linestyle='--')\n",
    "plt.xlim([0.0, 1.0])\n",
    "plt.ylim([0.0, 1.05])\n",
    "plt.xlabel('False Positive Rate')\n",
    "plt.ylabel('True Positive Rate')\n",
    "plt.show()"
   ]
  }
 ],
 "metadata": {
  "kernelspec": {
   "display_name": "Python 3",
   "language": "python",
   "name": "python3"
  },
  "language_info": {
   "codemirror_mode": {
    "name": "ipython",
    "version": 3
   },
   "file_extension": ".py",
   "mimetype": "text/x-python",
   "name": "python",
   "nbconvert_exporter": "python",
   "pygments_lexer": "ipython3",
   "version": "3.6.7"
  }
 },
 "nbformat": 4,
 "nbformat_minor": 2
}
