{
 "cells": [
  {
   "cell_type": "code",
   "execution_count": 1,
   "metadata": {},
   "outputs": [],
   "source": [
    "import pandas as pd\n",
    "import matplotlib.pyplot as plt\n",
    "import seaborn as sns\n",
    "\n",
    "from plotting import *\n",
    "from data_reading import *\n",
    "from data_preproc import *\n",
    "np.random.seed(0)\n",
    "# sns.set()\n",
    "# sns.set_style(\"whitegrid\", {'axes.grid' : False})\n",
    "HIST_PATH = \"plots/var_hists/\""
   ]
  },
  {
   "cell_type": "code",
   "execution_count": 2,
   "metadata": {},
   "outputs": [],
   "source": [
    "%load_ext autoreload\n",
    "%autoreload\n",
    "%aimport plotting"
   ]
  },
  {
   "cell_type": "code",
   "execution_count": 3,
   "metadata": {},
   "outputs": [],
   "source": [
    "SIZE = 21\n",
    "DATA_PATH = \"data\"\n",
    "\n",
    "seeds = [0]\n",
    "paths = [f\"{DATA_PATH}/seed{i:d}/{t}_obs.csv\" for i in seeds for t in \"wg\"]\n",
    "all_data = load_obs_data(paths)"
   ]
  },
  {
   "cell_type": "code",
   "execution_count": 4,
   "metadata": {},
   "outputs": [
    {
     "name": "stdout",
     "output_type": "stream",
     "text": [
      "Data set size: 85453\n"
     ]
    }
   ],
   "source": [
    "pt_bounds = 200, 400\n",
    "data = all_data[all_data[\"pt\"].between(*pt_bounds)]\n",
    "print(f\"Data set size: {data.shape[0]}\")"
   ]
  },
  {
   "cell_type": "code",
   "execution_count": 5,
   "metadata": {},
   "outputs": [
    {
     "name": "stdout",
     "output_type": "stream",
     "text": [
      "Train size: 68362; Test size: 17091\n"
     ]
    }
   ],
   "source": [
    "from sklearn.model_selection import train_test_split\n",
    "\n",
    "train_data, test_data = train_test_split(data, test_size=0.2, random_state=0, shuffle=True)\n",
    "print(f\"Train size: {train_data.shape[0]}; Test size: {test_data.shape[0]}\")"
   ]
  },
  {
   "cell_type": "code",
   "execution_count": 19,
   "metadata": {},
   "outputs": [],
   "source": [
    "features = [\"Emean\", \"broad\", \"sub_rat\", \"log_eq\", \"pt<r/2\", \"pt<3r/2\", \"pt<r\", \"mass\", \"M1/2\", \"Nq/E\"]"
   ]
  },
  {
   "cell_type": "code",
   "execution_count": 20,
   "metadata": {},
   "outputs": [],
   "source": [
    "from sklearn.pipeline import make_pipeline\n",
    "from sklearn.decomposition import PCA\n",
    "data_pipeline = make_pipeline(\n",
    "    DataFrameSelector(features, pt_bounds=(200, 400)),\n",
    "    StandardScaler(),\n",
    "    PCA(),\n",
    "    StandardScaler()\n",
    ")\n",
    "X_train = data_pipeline.fit_transform(train_data)\n",
    "y_train = train_data[\"type\"]"
   ]
  },
  {
   "cell_type": "code",
   "execution_count": 21,
   "metadata": {},
   "outputs": [
    {
     "name": "stdout",
     "output_type": "stream",
     "text": [
      "Best f2 score: 0.845 for params: {'C': 0.01, 'gamma': 0.01, 'kernel': 'rbf'}\n"
     ]
    }
   ],
   "source": [
    "from sklearn.model_selection import GridSearchCV\n",
    "from sklearn.svm import SVC\n",
    "\n",
    "from sklearn.metrics import fbeta_score, make_scorer\n",
    "f_scorer = make_scorer(fbeta_score, beta=1.5)\n",
    "\n",
    "svm_clf = SVC()\n",
    "param_grid = [\n",
    "    {\"kernel\": [\"rbf\"],\n",
    "     \"C\": [0.01, 0.1, 1, 10],\n",
    "     \"gamma\": [0.01, 0.1, 1, 10]}\n",
    "    ]\n",
    "grid_search = GridSearchCV(svm_clf, param_grid, cv=5,\n",
    "                          scoring=f_scorer, n_jobs=16)\n",
    "grid_search.fit(X_train[:10000], y_train[:10000])\n",
    "print(f\"Best f2 score: {grid_search.best_score_:.3f} for params: {grid_search.best_params_}\")"
   ]
  },
  {
   "cell_type": "code",
   "execution_count": 22,
   "metadata": {},
   "outputs": [],
   "source": [
    "svm_clf = SVC(**grid_search.best_params_).fit(X_train[:10000], y_train[:10000])"
   ]
  },
  {
   "cell_type": "code",
   "execution_count": 23,
   "metadata": {},
   "outputs": [
    {
     "data": {
      "image/png": "[encoded data removed]",
      "text/plain": [
       "<Figure size 576x432 with 1 Axes>"
      ]
     },
     "metadata": {
      "needs_background": "light"
     },
     "output_type": "display_data"
    }
   ],
   "source": [
    "y_train_pred = svm_clf.predict(X_train)\n",
    "fig, axis = plt.subplots(1,1, figsize=(8, 6))\n",
    "plot_confusion_matrix(axis, confusion_matrix(y_train, y_train_pred), classes=\"gW\", normalize=True)"
   ]
  },
  {
   "cell_type": "code",
   "execution_count": 24,
   "metadata": {},
   "outputs": [],
   "source": [
    "X_test = data_pipeline.transform(test_data)\n",
    "y_test = test_data[\"type\"]\n",
    "y_test_pred = svm_clf.predict(X_test)"
   ]
  },
  {
   "cell_type": "code",
   "execution_count": 25,
   "metadata": {},
   "outputs": [
    {
     "data": {
      "image/png": "[encoded data removed]",
      "text/plain": [
       "<Figure size 576x432 with 1 Axes>"
      ]
     },
     "metadata": {
      "needs_background": "light"
     },
     "output_type": "display_data"
    }
   ],
   "source": [
    "fig, axis = plt.subplots(1,1, figsize=(8, 6))\n",
    "plot_confusion_matrix(axis, confusion_matrix(y_test, y_test_pred), classes=\"gW\", normalize=True)"
   ]
  },
  {
   "cell_type": "code",
   "execution_count": null,
   "metadata": {},
   "outputs": [],
   "source": []
  }
 ],
 "metadata": {
  "kernelspec": {
   "display_name": "Python 3",
   "language": "python",
   "name": "python3"
  },
  "language_info": {
   "codemirror_mode": {
    "name": "ipython",
    "version": 3
   },
   "file_extension": ".py",
   "mimetype": "text/x-python",
   "name": "python",
   "nbconvert_exporter": "python",
   "pygments_lexer": "ipython3",
   "version": "3.6.6"
  }
 },
 "nbformat": 4,
 "nbformat_minor": 2
}
