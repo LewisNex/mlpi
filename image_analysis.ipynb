{
 "cells": [
  {
   "cell_type": "code",
   "execution_count": 1,
   "metadata": {},
   "outputs": [],
   "source": [
    "import pandas as pd\n",
    "import numpy as np\n",
    "\n",
    "import matplotlib.pyplot as plt\n",
    "\n",
    "import math\n",
    "from image import *\n",
    "\n",
    "from plotting import *\n",
    "\n",
    "np.random.seed(0)"
   ]
  },
  {
   "cell_type": "code",
   "execution_count": 2,
   "metadata": {},
   "outputs": [],
   "source": [
    "%load_ext autoreload\n",
    "%autoreload\n",
    "%aimport image, plotting"
   ]
  },
  {
   "cell_type": "code",
   "execution_count": 12,
   "metadata": {},
   "outputs": [],
   "source": [
    "# SIZE = 31\n",
    "SIZE = 21\n",
    "DATA_PATH = \"data/{}x{}/seed0\".format(SIZE, SIZE)\n",
    " \n",
    "seeds = [0]\n",
    "fname = [f\"seed{i:d}/{t}_pt.csv\" for i in seeds for t in \"wg\"]\n",
    "\n",
    "correction_params = {\"ptmean\": False, \"rotate\": True, \"transform_layers_together\": True}\n",
    "plot_params = {\"log_color\":True}\n",
    "\n",
    "# Generate column headings and types for df loading\n",
    "i32 = type(1)\n",
    "f64 = type(0.1)\n",
    "stype = type(\"string\")\n",
    "\n",
    "n_cols = [f\"n{i}\" for i in range(SIZE**2)]\n",
    "q_cols = [f\"q{i}\" for i in range(SIZE**2)]\n",
    "pixel_cols = n_cols + q_cols\n",
    "column_heads = [\"event\", \"jet\", \"type\"] + pixel_cols\n",
    "col_types = ([i32, i32, i32] + [f64] * (2 * SIZE * SIZE) + [f64]) # 2 int ids, a string type, 2 images and an extra ,\n",
    "dtypes = {col:dtype for col, dtype in zip(column_heads + [\"null\"], col_types)}\n",
    "converters = {\"type\": lambda letter: 1 if letter == \"W\" else 0}"
   ]
  },
  {
   "cell_type": "code",
   "execution_count": 13,
   "metadata": {},
   "outputs": [],
   "source": [
    "def correct_series(series, **kwargs):\n",
    "    ids, jet_type, images = extract_info(series)\n",
    "    corrected = correct_image(images, **kwargs).flatten()\n",
    "    corrected = corrected / corrected.sum()\n",
    "    return np.concatenate((ids, jet_type, corrected.flatten()), axis=None)\n",
    "    \n",
    "def extract_info(series):\n",
    "    array = series.values\n",
    "    ids = array[:2]\n",
    "    jet_type = array[2]\n",
    "    images = array[3:].astype(f64)\n",
    "    try:\n",
    "        return ids, jet_type, images.reshape((SIZE,SIZE,2))\n",
    "    except:\n",
    "        print(series)\n",
    "        "
   ]
  },
  {
   "cell_type": "code",
   "execution_count": 14,
   "metadata": {},
   "outputs": [
    {
     "name": "stderr",
     "output_type": "stream",
     "text": [
      "C:\\Users\\Lewis\\Anaconda2\\envs\\DataScience3.6\\lib\\site-packages\\ipykernel_launcher.py:2: ParserWarning: Both a converter and dtype were specified for column type - only the converter will be used\n",
      "  \n"
     ]
    }
   ],
   "source": [
    "data = (pd.concat([pd.read_csv(f\"{DATA_PATH}/{name}\", header=None, converters=converters, names=column_heads+[\"null\"], dtype=dtypes, usecols=range(3+2*SIZE**2))[column_heads]\n",
    "                    for name in fnames], ignore_index=True, axis=0)\n",
    "        .dropna()\n",
    "        .apply(correct_series, axis=1, result_type=\"broadcast\", **correction_params)\n",
    "        .sample(frac=1)\n",
    "        )"
   ]
  },
  {
   "cell_type": "code",
   "execution_count": 15,
   "metadata": {},
   "outputs": [
    {
     "data": {
      "image/png": "[encoded data removed]",
      "text/plain": [
       "<Figure size 432x288 with 3 Axes>"
      ]
     },
     "metadata": {
      "needs_background": "light"
     },
     "output_type": "display_data"
    }
   ],
   "source": [
    "w_et = data[data[\"type\"] == 1][pixel_cols]\n",
    "show_images([w_et.mean().values.reshape((SIZE,SIZE,2))[:,:,0].T,\n",
    "             w_et.mean().values.reshape((SIZE,SIZE,2))[:,:,1].T,\n",
    "             w_et.mean().values.reshape((SIZE,SIZE,2)).sum(axis=2).T],\n",
    "             **plot_params)"
   ]
  },
  {
   "cell_type": "code",
   "execution_count": 16,
   "metadata": {},
   "outputs": [
    {
     "data": {
      "image/png": "[encoded data removed]",
      "text/plain": [
       "<Figure size 432x288 with 3 Axes>"
      ]
     },
     "metadata": {
      "needs_background": "light"
     },
     "output_type": "display_data"
    }
   ],
   "source": [
    "g_et = data[data[\"type\"] == 0][pixel_cols]\n",
    "show_images([g_et.mean().values.reshape((SIZE,SIZE,2))[:,:,0].T,\n",
    "             g_et.mean().values.reshape((SIZE,SIZE,2))[:,:,1].T,\n",
    "             g_et.mean().values.reshape((SIZE,SIZE,2)).sum(axis=2).T],\n",
    "             **plot_params)"
   ]
  },
  {
   "cell_type": "code",
   "execution_count": 8,
   "metadata": {},
   "outputs": [
    {
     "name": "stdout",
     "output_type": "stream",
     "text": [
      "Gluon: 60732; W: 121648;\n"
     ]
    }
   ],
   "source": [
    "print(\"Gluon: {}; W: {};\".format(g_et.shape[0], w_et.shape[0]))"
   ]
  },
  {
   "cell_type": "code",
   "execution_count": 9,
   "metadata": {},
   "outputs": [],
   "source": [
    "import tensorflow as tf\n",
    "\n",
    "def make_input_func(df, epochs=None):\n",
    "    return tf.estimator.inputs.numpy_input_fn(\n",
    "        x = {\"n\":df[n_cols].values.astype(f64), \"q\":df[q_cols].values.astype(f64)},\n",
    "        y = df[\"type\"].values,\n",
    "        batch_size = 128,\n",
    "        num_epochs = epochs,\n",
    "        queue_capacity = 1000,\n",
    "        shuffle=False\n",
    "    )\n",
    "def create_feature_cols():\n",
    "    return [tf.feature_column.numeric_column(\"n\", shape=(SIZE,SIZE)),\n",
    "            tf.feature_column.numeric_column(\"q\", shape=(SIZE,SIZE))]\n",
    "\n",
    "def evaluate(clf, df, train_frac=0.8, steps=10000, epochs=1000):\n",
    "    # Split the data\n",
    "    mask = np.random.rand(len(data)) < train_frac\n",
    "    train_df = data[mask]\n",
    "    test_df = data[~mask]\n",
    "    # Train on training set and make predictions about test set\n",
    "    clf.train(input_fn=make_input_func(train_df, epochs=epochs), steps=steps)\n",
    "    y_true = test_df['type'].values\n",
    "    y_probs = np.asarray([result['probabilities'] for result in clf.predict(make_input_func(test_df, epochs=1))])\n",
    "    y_scores = y_probs[:,1]\n",
    "    y_pred = y_scores > 0.5 # Binary so a prob > 0.5 in the 1 column correctly reads as 1\n",
    "    return y_scores, y_pred, y_true"
   ]
  },
  {
   "cell_type": "code",
   "execution_count": 10,
   "metadata": {},
   "outputs": [
    {
     "name": "stdout",
     "output_type": "stream",
     "text": [
      "INFO:tensorflow:Using default config.\n",
      "WARNING:tensorflow:Using temporary folder as model directory: C:\\Users\\Lewis\\AppData\\Local\\Temp\\tmpiasyr69i\n",
      "INFO:tensorflow:Using config: {'_model_dir': 'C:\\\\Users\\\\Lewis\\\\AppData\\\\Local\\\\Temp\\\\tmpiasyr69i', '_tf_random_seed': None, '_save_summary_steps': 100, '_save_checkpoints_steps': None, '_save_checkpoints_secs': 600, '_session_config': allow_soft_placement: true\n",
      "graph_options {\n",
      "  rewrite_options {\n",
      "    meta_optimizer_iterations: ONE\n",
      "  }\n",
      "}\n",
      ", '_keep_checkpoint_max': 5, '_keep_checkpoint_every_n_hours': 10000, '_log_step_count_steps': 100, '_train_distribute': None, '_device_fn': None, '_protocol': None, '_eval_distribute': None, '_experimental_distribute': None, '_service': None, '_cluster_spec': <tensorflow.python.training.server_lib.ClusterSpec object at 0x000001E28A1A55C0>, '_task_type': 'worker', '_task_id': 0, '_global_id_in_cluster': 0, '_master': '', '_evaluation_master': '', '_is_chief': True, '_num_ps_replicas': 0, '_num_worker_replicas': 1}\n",
      "WARNING:tensorflow:From C:\\Users\\Lewis\\Anaconda2\\envs\\DataScience3.6\\lib\\site-packages\\tensorflow\\python\\estimator\\inputs\\queues\\feeding_queue_runner.py:62: QueueRunner.__init__ (from tensorflow.python.training.queue_runner_impl) is deprecated and will be removed in a future version.\n",
      "Instructions for updating:\n",
      "To construct input pipelines, use the `tf.data` module.\n",
      "WARNING:tensorflow:From C:\\Users\\Lewis\\Anaconda2\\envs\\DataScience3.6\\lib\\site-packages\\tensorflow\\python\\estimator\\inputs\\queues\\feeding_functions.py:500: add_queue_runner (from tensorflow.python.training.queue_runner_impl) is deprecated and will be removed in a future version.\n",
      "Instructions for updating:\n",
      "To construct input pipelines, use the `tf.data` module.\n",
      "INFO:tensorflow:Calling model_fn.\n",
      "INFO:tensorflow:Done calling model_fn.\n",
      "INFO:tensorflow:Create CheckpointSaverHook.\n",
      "INFO:tensorflow:Graph was finalized.\n",
      "INFO:tensorflow:Running local_init_op.\n",
      "INFO:tensorflow:Done running local_init_op.\n",
      "WARNING:tensorflow:From C:\\Users\\Lewis\\Anaconda2\\envs\\DataScience3.6\\lib\\site-packages\\tensorflow\\python\\training\\monitored_session.py:804: start_queue_runners (from tensorflow.python.training.queue_runner_impl) is deprecated and will be removed in a future version.\n",
      "Instructions for updating:\n",
      "To construct input pipelines, use the `tf.data` module.\n",
      "INFO:tensorflow:Saving checkpoints for 0 into C:\\Users\\Lewis\\AppData\\Local\\Temp\\tmpiasyr69i\\model.ckpt.\n",
      "INFO:tensorflow:loss = 88.53984, step = 0\n",
      "INFO:tensorflow:global_step/sec: 131.236\n",
      "INFO:tensorflow:loss = 85.93147, step = 100 (0.762 sec)\n",
      "INFO:tensorflow:global_step/sec: 157.731\n",
      "INFO:tensorflow:loss = 77.17503, step = 200 (0.633 sec)\n",
      "INFO:tensorflow:global_step/sec: 152.441\n",
      "INFO:tensorflow:loss = 85.420715, step = 300 (0.656 sec)\n",
      "INFO:tensorflow:global_step/sec: 153.848\n",
      "INFO:tensorflow:loss = 81.15371, step = 400 (0.650 sec)\n",
      "INFO:tensorflow:global_step/sec: 152.209\n",
      "INFO:tensorflow:loss = 75.482025, step = 500 (0.656 sec)\n",
      "INFO:tensorflow:global_step/sec: 168.07\n",
      "INFO:tensorflow:loss = 86.23855, step = 600 (0.595 sec)\n",
      "INFO:tensorflow:global_step/sec: 170.36\n",
      "INFO:tensorflow:loss = 79.0229, step = 700 (0.587 sec)\n",
      "INFO:tensorflow:global_step/sec: 165.84\n",
      "INFO:tensorflow:loss = 73.31668, step = 800 (0.603 sec)\n",
      "INFO:tensorflow:global_step/sec: 170.07\n",
      "INFO:tensorflow:loss = 78.95589, step = 900 (0.589 sec)\n",
      "INFO:tensorflow:global_step/sec: 167.226\n",
      "INFO:tensorflow:loss = 81.0083, step = 1000 (0.597 sec)\n",
      "INFO:tensorflow:global_step/sec: 167.507\n",
      "INFO:tensorflow:loss = 83.63604, step = 1100 (0.597 sec)\n",
      "INFO:tensorflow:global_step/sec: 170.941\n",
      "INFO:tensorflow:loss = 85.86755, step = 1200 (0.586 sec)\n",
      "INFO:tensorflow:global_step/sec: 165.567\n",
      "INFO:tensorflow:loss = 79.680954, step = 1300 (0.603 sec)\n",
      "INFO:tensorflow:global_step/sec: 170.071\n",
      "INFO:tensorflow:loss = 88.32284, step = 1400 (0.588 sec)\n",
      "INFO:tensorflow:global_step/sec: 168.352\n",
      "INFO:tensorflow:loss = 76.96062, step = 1500 (0.594 sec)\n",
      "INFO:tensorflow:global_step/sec: 165.84\n",
      "INFO:tensorflow:loss = 85.30874, step = 1600 (0.603 sec)\n",
      "INFO:tensorflow:global_step/sec: 169.782\n",
      "INFO:tensorflow:loss = 86.33942, step = 1700 (0.590 sec)\n",
      "INFO:tensorflow:global_step/sec: 168.069\n",
      "INFO:tensorflow:loss = 84.97801, step = 1800 (0.594 sec)\n",
      "INFO:tensorflow:global_step/sec: 168.07\n",
      "INFO:tensorflow:loss = 78.30179, step = 1900 (0.595 sec)\n",
      "INFO:tensorflow:global_step/sec: 168.351\n",
      "INFO:tensorflow:loss = 81.028885, step = 2000 (0.595 sec)\n",
      "INFO:tensorflow:global_step/sec: 166.117\n",
      "INFO:tensorflow:loss = 77.33392, step = 2100 (0.601 sec)\n",
      "INFO:tensorflow:global_step/sec: 170.071\n",
      "INFO:tensorflow:loss = 78.55411, step = 2200 (0.588 sec)\n",
      "INFO:tensorflow:global_step/sec: 168.069\n",
      "INFO:tensorflow:loss = 78.244965, step = 2300 (0.595 sec)\n",
      "INFO:tensorflow:global_step/sec: 168.068\n",
      "INFO:tensorflow:loss = 81.0068, step = 2400 (0.596 sec)\n",
      "INFO:tensorflow:global_step/sec: 167.789\n",
      "INFO:tensorflow:loss = 71.75679, step = 2500 (0.596 sec)\n",
      "INFO:tensorflow:global_step/sec: 168.635\n",
      "INFO:tensorflow:loss = 77.227104, step = 2600 (0.593 sec)\n",
      "INFO:tensorflow:global_step/sec: 168.638\n",
      "INFO:tensorflow:loss = 79.74451, step = 2700 (0.593 sec)\n",
      "INFO:tensorflow:global_step/sec: 166.392\n",
      "INFO:tensorflow:loss = 83.2089, step = 2800 (0.601 sec)\n",
      "INFO:tensorflow:global_step/sec: 151.978\n",
      "INFO:tensorflow:loss = 81.70334, step = 2900 (0.658 sec)\n",
      "INFO:tensorflow:global_step/sec: 152.674\n",
      "INFO:tensorflow:loss = 83.81792, step = 3000 (0.655 sec)\n",
      "INFO:tensorflow:global_step/sec: 155.041\n",
      "INFO:tensorflow:loss = 84.48192, step = 3100 (0.645 sec)\n",
      "INFO:tensorflow:global_step/sec: 160.259\n",
      "INFO:tensorflow:loss = 81.70842, step = 3200 (0.624 sec)\n",
      "INFO:tensorflow:global_step/sec: 168.637\n",
      "INFO:tensorflow:loss = 87.82526, step = 3300 (0.592 sec)\n",
      "INFO:tensorflow:global_step/sec: 165.84\n",
      "INFO:tensorflow:loss = 85.664314, step = 3400 (0.603 sec)\n",
      "INFO:tensorflow:global_step/sec: 168.636\n",
      "INFO:tensorflow:loss = 84.53204, step = 3500 (0.594 sec)\n",
      "INFO:tensorflow:global_step/sec: 167.506\n",
      "INFO:tensorflow:loss = 84.488464, step = 3600 (0.596 sec)\n",
      "INFO:tensorflow:global_step/sec: 169.207\n",
      "INFO:tensorflow:loss = 74.24518, step = 3700 (0.592 sec)\n",
      "INFO:tensorflow:global_step/sec: 167.226\n",
      "INFO:tensorflow:loss = 81.00621, step = 3800 (0.597 sec)\n",
      "INFO:tensorflow:global_step/sec: 168.353\n",
      "INFO:tensorflow:loss = 74.6192, step = 3900 (0.594 sec)\n",
      "INFO:tensorflow:global_step/sec: 168.07\n",
      "INFO:tensorflow:loss = 78.89122, step = 4000 (0.595 sec)\n",
      "INFO:tensorflow:global_step/sec: 168.637\n",
      "INFO:tensorflow:loss = 74.62449, step = 4100 (0.593 sec)\n",
      "INFO:tensorflow:global_step/sec: 170.65\n",
      "INFO:tensorflow:loss = 75.12912, step = 4200 (0.587 sec)\n",
      "INFO:tensorflow:global_step/sec: 165.566\n",
      "INFO:tensorflow:loss = 75.406555, step = 4300 (0.603 sec)\n",
      "INFO:tensorflow:global_step/sec: 168.921\n",
      "INFO:tensorflow:loss = 84.4221, step = 4400 (0.593 sec)\n",
      "INFO:tensorflow:global_step/sec: 167.788\n",
      "INFO:tensorflow:loss = 80.39369, step = 4500 (0.595 sec)\n",
      "INFO:tensorflow:global_step/sec: 168.353\n",
      "INFO:tensorflow:loss = 81.76718, step = 4600 (0.594 sec)\n",
      "INFO:tensorflow:global_step/sec: 170.651\n",
      "INFO:tensorflow:loss = 83.71616, step = 4700 (0.586 sec)\n",
      "INFO:tensorflow:global_step/sec: 164.746\n",
      "INFO:tensorflow:loss = 85.46596, step = 4800 (0.608 sec)\n",
      "INFO:tensorflow:global_step/sec: 169.782\n",
      "INFO:tensorflow:loss = 78.14827, step = 4900 (0.589 sec)\n",
      "INFO:tensorflow:global_step/sec: 167.789\n",
      "INFO:tensorflow:loss = 79.62565, step = 5000 (0.595 sec)\n",
      "INFO:tensorflow:global_step/sec: 165.84\n",
      "INFO:tensorflow:loss = 78.13521, step = 5100 (0.603 sec)\n",
      "INFO:tensorflow:global_step/sec: 169.782\n",
      "INFO:tensorflow:loss = 79.623, step = 5200 (0.590 sec)\n",
      "INFO:tensorflow:global_step/sec: 168.353\n",
      "INFO:tensorflow:loss = 80.358765, step = 5300 (0.593 sec)\n",
      "INFO:tensorflow:global_step/sec: 168.637\n",
      "INFO:tensorflow:loss = 82.37708, step = 5400 (0.593 sec)\n",
      "INFO:tensorflow:global_step/sec: 158.481\n",
      "INFO:tensorflow:loss = 83.08067, step = 5500 (0.632 sec)\n",
      "INFO:tensorflow:global_step/sec: 150.378\n",
      "INFO:tensorflow:loss = 79.09662, step = 5600 (0.665 sec)\n",
      "INFO:tensorflow:global_step/sec: 154.085\n",
      "INFO:tensorflow:loss = 83.76651, step = 5700 (0.649 sec)\n",
      "INFO:tensorflow:global_step/sec: 152.209\n",
      "INFO:tensorflow:loss = 80.32634, step = 5800 (0.656 sec)\n",
      "INFO:tensorflow:global_step/sec: 164.747\n",
      "INFO:tensorflow:loss = 90.732895, step = 5900 (0.607 sec)\n",
      "INFO:tensorflow:global_step/sec: 170.07\n",
      "INFO:tensorflow:loss = 83.83172, step = 6000 (0.588 sec)\n",
      "INFO:tensorflow:global_step/sec: 166.668\n",
      "INFO:tensorflow:loss = 79.7686, step = 6100 (0.601 sec)\n",
      "INFO:tensorflow:global_step/sec: 169.782\n",
      "INFO:tensorflow:loss = 78.167206, step = 6200 (0.589 sec)\n",
      "INFO:tensorflow:global_step/sec: 168.638\n",
      "INFO:tensorflow:loss = 84.4258, step = 6300 (0.592 sec)\n",
      "INFO:tensorflow:global_step/sec: 165.292\n",
      "INFO:tensorflow:loss = 78.34695, step = 6400 (0.605 sec)\n",
      "INFO:tensorflow:global_step/sec: 161.553\n",
      "INFO:tensorflow:loss = 78.12807, step = 6500 (0.619 sec)\n",
      "INFO:tensorflow:global_step/sec: 167.788\n",
      "INFO:tensorflow:loss = 80.30702, step = 6600 (0.597 sec)\n",
      "INFO:tensorflow:global_step/sec: 162.34\n",
      "INFO:tensorflow:loss = 83.08613, step = 6700 (0.616 sec)\n",
      "INFO:tensorflow:global_step/sec: 169.207\n",
      "INFO:tensorflow:loss = 86.265, step = 6800 (0.590 sec)\n",
      "INFO:tensorflow:global_step/sec: 166.669\n",
      "INFO:tensorflow:loss = 76.12527, step = 6900 (0.600 sec)\n",
      "INFO:tensorflow:global_step/sec: 168.921\n",
      "INFO:tensorflow:loss = 78.307686, step = 7000 (0.593 sec)\n",
      "INFO:tensorflow:global_step/sec: 147.93\n",
      "INFO:tensorflow:loss = 86.05676, step = 7100 (0.676 sec)\n",
      "INFO:tensorflow:global_step/sec: 165.293\n",
      "INFO:tensorflow:loss = 85.27008, step = 7200 (0.605 sec)\n",
      "INFO:tensorflow:global_step/sec: 156.007\n",
      "INFO:tensorflow:loss = 78.920815, step = 7300 (0.641 sec)\n",
      "INFO:tensorflow:global_step/sec: 167.228\n",
      "INFO:tensorflow:loss = 85.456985, step = 7400 (0.597 sec)\n",
      "INFO:tensorflow:global_step/sec: 168.637\n",
      "INFO:tensorflow:loss = 77.02696, step = 7500 (0.593 sec)\n",
      "INFO:tensorflow:global_step/sec: 166.115\n",
      "INFO:tensorflow:loss = 74.15523, step = 7600 (0.602 sec)\n",
      "INFO:tensorflow:global_step/sec: 167.226\n",
      "INFO:tensorflow:loss = 83.06645, step = 7700 (0.598 sec)\n",
      "INFO:tensorflow:global_step/sec: 170.943\n",
      "INFO:tensorflow:loss = 75.93123, step = 7800 (0.586 sec)\n",
      "INFO:tensorflow:global_step/sec: 166.392\n",
      "INFO:tensorflow:loss = 80.39862, step = 7900 (0.600 sec)\n",
      "INFO:tensorflow:global_step/sec: 168.07\n",
      "INFO:tensorflow:loss = 87.99833, step = 8000 (0.595 sec)\n",
      "INFO:tensorflow:global_step/sec: 161.293\n",
      "INFO:tensorflow:loss = 83.85121, step = 8100 (0.620 sec)\n",
      "INFO:tensorflow:global_step/sec: 152.208\n",
      "INFO:tensorflow:loss = 79.55104, step = 8200 (0.658 sec)\n",
      "INFO:tensorflow:global_step/sec: 152.21\n",
      "INFO:tensorflow:loss = 83.248856, step = 8300 (0.656 sec)\n",
      "INFO:tensorflow:global_step/sec: 144.93\n",
      "INFO:tensorflow:loss = 81.03636, step = 8400 (0.691 sec)\n",
      "INFO:tensorflow:global_step/sec: 158.229\n",
      "INFO:tensorflow:loss = 81.00392, step = 8500 (0.632 sec)\n",
      "INFO:tensorflow:global_step/sec: 170.944\n",
      "INFO:tensorflow:loss = 75.57066, step = 8600 (0.585 sec)\n",
      "INFO:tensorflow:global_step/sec: 167.788\n",
      "INFO:tensorflow:loss = 84.47626, step = 8700 (0.595 sec)\n",
      "INFO:tensorflow:global_step/sec: 165.84\n",
      "INFO:tensorflow:loss = 84.496185, step = 8800 (0.605 sec)\n",
      "INFO:tensorflow:global_step/sec: 160.002\n",
      "INFO:tensorflow:loss = 85.22709, step = 8900 (0.623 sec)\n",
      "INFO:tensorflow:global_step/sec: 166.114\n",
      "INFO:tensorflow:loss = 79.006004, step = 9000 (0.602 sec)\n",
      "INFO:tensorflow:global_step/sec: 171.237\n",
      "INFO:tensorflow:loss = 90.240326, step = 9100 (0.584 sec)\n",
      "INFO:tensorflow:global_step/sec: 166.115\n",
      "INFO:tensorflow:loss = 85.21796, step = 9200 (0.602 sec)\n",
      "INFO:tensorflow:global_step/sec: 164.206\n",
      "INFO:tensorflow:loss = 76.20906, step = 9300 (0.609 sec)\n",
      "INFO:tensorflow:global_step/sec: 166.669\n",
      "INFO:tensorflow:loss = 83.83313, step = 9400 (0.600 sec)\n",
      "INFO:tensorflow:global_step/sec: 166.947\n",
      "INFO:tensorflow:loss = 85.94921, step = 9500 (0.599 sec)\n",
      "INFO:tensorflow:global_step/sec: 168.07\n",
      "INFO:tensorflow:loss = 82.423676, step = 9600 (0.595 sec)\n",
      "INFO:tensorflow:global_step/sec: 167.226\n",
      "INFO:tensorflow:loss = 85.30425, step = 9700 (0.599 sec)\n",
      "INFO:tensorflow:global_step/sec: 169.782\n",
      "INFO:tensorflow:loss = 82.37297, step = 9800 (0.588 sec)\n",
      "INFO:tensorflow:global_step/sec: 165.84\n",
      "INFO:tensorflow:loss = 75.93042, step = 9900 (0.602 sec)\n",
      "INFO:tensorflow:Saving checkpoints for 10000 into C:\\Users\\Lewis\\AppData\\Local\\Temp\\tmpiasyr69i\\model.ckpt.\n",
      "INFO:tensorflow:Loss for final step: 74.69899.\n",
      "INFO:tensorflow:Calling model_fn.\n",
      "INFO:tensorflow:Done calling model_fn.\n",
      "INFO:tensorflow:Graph was finalized.\n",
      "INFO:tensorflow:Restoring parameters from C:\\Users\\Lewis\\AppData\\Local\\Temp\\tmpiasyr69i\\model.ckpt-10000\n",
      "INFO:tensorflow:Running local_init_op.\n",
      "INFO:tensorflow:Done running local_init_op.\n"
     ]
    }
   ],
   "source": [
    "clf = tf.estimator.DNNClassifier(\n",
    "            feature_columns=create_feature_cols(),\n",
    "            hidden_units=[1024,256,64])\n",
    "\n",
    "y_scores, y_pred, y_true = evaluate(clf, data)"
   ]
  },
  {
   "cell_type": "code",
   "execution_count": 11,
   "metadata": {},
   "outputs": [
    {
     "data": {
      "image/png": "[encoded data removed]",
      "text/plain": [
       "<Figure size 720x216 with 3 Axes>"
      ]
     },
     "metadata": {
      "needs_background": "light"
     },
     "output_type": "display_data"
    }
   ],
   "source": [
    "plot_evaluations(y_scores, y_pred, y_true)"
   ]
  },
  {
   "cell_type": "code",
   "execution_count": null,
   "metadata": {},
   "outputs": [],
   "source": []
  }
 ],
 "metadata": {
  "kernelspec": {
   "display_name": "Python 3",
   "language": "python",
   "name": "python3"
  },
  "language_info": {
   "codemirror_mode": {
    "name": "ipython",
    "version": 3
   },
   "file_extension": ".py",
   "mimetype": "text/x-python",
   "name": "python",
   "nbconvert_exporter": "python",
   "pygments_lexer": "ipython3",
   "version": "3.6.7"
  }
 },
 "nbformat": 4,
 "nbformat_minor": 2
}
